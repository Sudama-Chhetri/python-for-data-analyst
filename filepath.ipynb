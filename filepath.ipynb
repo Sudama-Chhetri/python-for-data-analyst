{
 "cells": [
  {
   "cell_type": "code",
   "execution_count": 1,
   "metadata": {},
   "outputs": [
    {
     "name": "stdout",
     "output_type": "stream",
     "text": [
      "current working directory is: /Users/sudamachhetri/Desktop/DATA ANALYTICS BOOTCAMP/AnalyticsBootcampusingPython\n"
     ]
    }
   ],
   "source": [
    "import os\n",
    "cwd=os.getcwd()\n",
    "print(f\"current working directory is: {cwd}\")"
   ]
  },
  {
   "cell_type": "code",
   "execution_count": 2,
   "metadata": {},
   "outputs": [
    {
     "ename": "FileExistsError",
     "evalue": "[Errno 17] File exists: 'package'",
     "output_type": "error",
     "traceback": [
      "\u001b[0;31m---------------------------------------------------------------------------\u001b[0m",
      "\u001b[0;31mFileExistsError\u001b[0m                           Traceback (most recent call last)",
      "Cell \u001b[0;32mIn[2], line 4\u001b[0m\n\u001b[1;32m      1\u001b[0m \u001b[38;5;66;03m##Create new directory\u001b[39;00m\n\u001b[1;32m      3\u001b[0m new_directory\u001b[38;5;241m=\u001b[39m\u001b[38;5;124m\"\u001b[39m\u001b[38;5;124mpackage\u001b[39m\u001b[38;5;124m\"\u001b[39m\n\u001b[0;32m----> 4\u001b[0m \u001b[43mos\u001b[49m\u001b[38;5;241;43m.\u001b[39;49m\u001b[43mmkdir\u001b[49m\u001b[43m(\u001b[49m\u001b[43mnew_directory\u001b[49m\u001b[43m)\u001b[49m\n\u001b[1;32m      5\u001b[0m \u001b[38;5;28mprint\u001b[39m(\u001b[38;5;124mf\u001b[39m\u001b[38;5;124m\"\u001b[39m\u001b[38;5;124mDirectory \u001b[39m\u001b[38;5;132;01m{\u001b[39;00mnew_directory\u001b[38;5;132;01m}\u001b[39;00m\u001b[38;5;124m is created\u001b[39m\u001b[38;5;124m\"\u001b[39m)\n",
      "\u001b[0;31mFileExistsError\u001b[0m: [Errno 17] File exists: 'package'"
     ]
    }
   ],
   "source": [
    "##Create new directory\n",
    "\n",
    "new_directory=\"package\"\n",
    "os.mkdir(new_directory)\n",
    "print(f\"Directory {new_directory} is created\")"
   ]
  },
  {
   "cell_type": "code",
   "execution_count": null,
   "metadata": {},
   "outputs": [
    {
     "name": "stdout",
     "output_type": "stream",
     "text": [
      "['fileoperation.ipynb', 'basics.ipynb', 'dailyparctices.ipynb', '4.3-Lambda.ipynb', 'destination.txt', 'examplefunctions.ipynb', 'set_assignmentsolution.ipynb', 'mapfunctions.ipynb', 'example.csv', 'dictionaries_assignmentsolution.ipynb', 'sets.ipynb', 'functionassignmentsolution.ipynb', 'list.ipynb', 'varaible.ipynb', 'tuples.ipynb', 'loops.ipynb', 'filepath.ipynb', 'source.txt', 'tuple_assignmentsolution.ipynb', 'operator.ipynb', 'functions.ipynb', 'datatype.ipynb', '5.2-Standardlibrary.ipynb', 'ConditionalStatement.ipynb', 'dictionaries.ipynb', 'example.bin', 'example.txt', 'filterfunctions.ipynb', 'lsit_assignmentsolution.ipynb', 'assignment2solution.ipynb', 'listExample.ipynb', 'package']\n"
     ]
    }
   ],
   "source": [
    "##Listing files and directories\n",
    "\n",
    "items=os.listdir('.')\n",
    "print(items)\n"
   ]
  },
  {
   "cell_type": "code",
   "execution_count": null,
   "metadata": {},
   "outputs": [
    {
     "name": "stdout",
     "output_type": "stream",
     "text": [
      "folder/file.txt\n"
     ]
    }
   ],
   "source": [
    "## Joining paths\n",
    "\n",
    "dir_name='folder'\n",
    "file_name='file.txt'\n",
    "\n",
    "full_path=os.path.join(dir_name,file_name)\n",
    "print(full_path)"
   ]
  },
  {
   "cell_type": "code",
   "execution_count": null,
   "metadata": {},
   "outputs": [
    {
     "name": "stdout",
     "output_type": "stream",
     "text": [
      "/Users/sudamachhetri/Desktop/DATA ANALYTICS BOOTCAMP/Analytics Bootcamp with python/folder/file.txt\n"
     ]
    }
   ],
   "source": [
    "dir_name='folder'\n",
    "file_name='file.txt'\n",
    "\n",
    "full_path=os.path.join(os.getcwd(),dir_name,file_name)\n",
    "print(full_path)"
   ]
  },
  {
   "cell_type": "code",
   "execution_count": null,
   "metadata": {},
   "outputs": [
    {
     "name": "stdout",
     "output_type": "stream",
     "text": [
      "The path example.txt exists\n"
     ]
    }
   ],
   "source": [
    "path='example.txt'\n",
    "if os.path.exists(path):\n",
    "    print(f\"The path {path} exists\")\n",
    "else:\n",
    "    print(f\"The path {path} doesn't exists\")"
   ]
  },
  {
   "cell_type": "code",
   "execution_count": null,
   "metadata": {},
   "outputs": [
    {
     "name": "stdout",
     "output_type": "stream",
     "text": [
      "The path example.txt is file.\n"
     ]
    }
   ],
   "source": [
    "##Checking if the path is file or directory\n",
    "\n",
    "import os\n",
    "\n",
    "path='example.txt'\n",
    "if os.path.isfile(path):\n",
    "    print(f\"The path {path} is file.\")\n",
    "elif os .path.isdir(path):\n",
    "    print(f\"The path {path} is a directory\")\n",
    "else:\n",
    "    print(f\"The path {path} is neither a file or directory\")"
   ]
  },
  {
   "cell_type": "code",
   "execution_count": null,
   "metadata": {},
   "outputs": [
    {
     "name": "stdout",
     "output_type": "stream",
     "text": [
      "/Users/sudamachhetri/Desktop/DATA ANALYTICS BOOTCAMP/Analytics Bootcamp with python/example.txt\n"
     ]
    }
   ],
   "source": [
    "##Getting teh absolute path\n",
    "\n",
    "relative_path='example.txt'\n",
    "absolute_path=os.path.abspath(relative_path)\n",
    "print(absolute_path)"
   ]
  }
 ],
 "metadata": {
  "kernelspec": {
   "display_name": "Python 3",
   "language": "python",
   "name": "python3"
  },
  "language_info": {
   "codemirror_mode": {
    "name": "ipython",
    "version": 3
   },
   "file_extension": ".py",
   "mimetype": "text/x-python",
   "name": "python",
   "nbconvert_exporter": "python",
   "pygments_lexer": "ipython3",
   "version": "3.12.0"
  }
 },
 "nbformat": 4,
 "nbformat_minor": 2
}
