{
 "cells": [
  {
   "cell_type": "code",
   "execution_count": 1,
   "metadata": {},
   "outputs": [
    {
     "name": "stdout",
     "output_type": "stream",
     "text": [
      "you are allowed to vote in the election\n"
     ]
    }
   ],
   "source": [
    "##if statement\n",
    "\n",
    "age=18\n",
    "\n",
    "if age>=18:\n",
    "    print(\"you are allowed to vote in the election\")"
   ]
  },
  {
   "cell_type": "code",
   "execution_count": 2,
   "metadata": {},
   "outputs": [
    {
     "data": {
      "text/plain": [
       "True"
      ]
     },
     "execution_count": 2,
     "metadata": {},
     "output_type": "execute_result"
    }
   ],
   "source": [
    "age>=18"
   ]
  },
  {
   "cell_type": "code",
   "execution_count": 1,
   "metadata": {},
   "outputs": [
    {
     "name": "stdout",
     "output_type": "stream",
     "text": [
      "you are minor\n"
     ]
    }
   ],
   "source": [
    "##else statement\n",
    "\n",
    "age=16\n",
    "\n",
    "if age>=18:\n",
    "    print(\"you are eligible for voting\")\n",
    "else:\n",
    "    print(\"you are minor\")"
   ]
  },
  {
   "cell_type": "code",
   "execution_count": 4,
   "metadata": {},
   "outputs": [
    {
     "name": "stdout",
     "output_type": "stream",
     "text": [
      "you are a teenager\n"
     ]
    }
   ],
   "source": [
    "##elif statement\n",
    "#The elif statement allow us to check multiple condition.It also stands for \"else if\"\n",
    "\n",
    "age=17\n",
    "\n",
    "if age<13:\n",
    "    print(\"you are a child\")\n",
    "elif age<18:\n",
    "    print(\"you are a teenager\")\n",
    "else:\n",
    "    print(\"you are an adult\")    \n",
    "\n"
   ]
  },
  {
   "cell_type": "code",
   "execution_count": 5,
   "metadata": {},
   "outputs": [
    {
     "name": "stdout",
     "output_type": "stream",
     "text": [
      "The number is positive\n",
      "The number is even\n"
     ]
    }
   ],
   "source": [
    "##Nestes Conditional Statement\n",
    "#you can place one or more if,elif or else statements inside another if,elif or else stetement to create nested comditional statement.\n",
    "#Number even,odd and negative\n",
    "\n",
    "num=int(input(\"Enter the number\"))\n",
    "\n",
    "if num>0:\n",
    "    print(\"The number is positive\")\n",
    "    if num%2==0:\n",
    "        print(\"The number is even\")\n",
    "    else:\n",
    "        print(\"The number is odd\")\n",
    "\n",
    "else:\n",
    "    print(\"The number is negative\")"
   ]
  },
  {
   "cell_type": "code",
   "execution_count": 6,
   "metadata": {},
   "outputs": [
    {
     "name": "stdout",
     "output_type": "stream",
     "text": [
      "12 is a leap year\n"
     ]
    }
   ],
   "source": [
    "##Practical Example\n",
    "##Determine if the year is leap year or not useing Nested conditional statement.\n",
    "\n",
    "year=int(input(\"Enter the year\"))\n",
    "\n",
    "if year%4==0:\n",
    "    if year%100==0:\n",
    "        if year%400==0:\n",
    "            print(year,\"is a leap year\")\n",
    "        else:\n",
    "            print(year,\"is not a leap year\")\n",
    "    else:\n",
    "        print(year,\"is a leap year\") \n",
    "          \n",
    "else:        \n",
    "    print(year,\"is not a leap year\")\n",
    "\n"
   ]
  },
  {
   "cell_type": "code",
   "execution_count": 3,
   "metadata": {},
   "outputs": [
    {
     "name": "stdout",
     "output_type": "stream",
     "text": [
      "Result: 400.0\n"
     ]
    }
   ],
   "source": [
    "##Simple calculator program\n",
    "\n",
    "num1=float(input(\"Enter first number\"))\n",
    "num2=float(input(\"Enter second number\"))\n",
    "operation=input(\"Enter Operation(+,-,*,/): \")\n",
    "\n",
    "#perform the requested operation\n",
    "if operation == '+':\n",
    "    result=num1+num2\n",
    "elif operation == '-':\n",
    "    result=num1-num2\n",
    "elif operation == '*':\n",
    "    result=num1*num2\n",
    "elif operation == '/':\n",
    "        if num2!=0:\n",
    "             result=num1/num2\n",
    "        else:\n",
    "             result =\"Error! Divisible by 0\"        \n",
    "else:\n",
    "    result = \"Invalid operation\" \n",
    "\n",
    "print(\"Result:\", result)      "
   ]
  },
  {
   "cell_type": "code",
   "execution_count": 7,
   "metadata": {},
   "outputs": [
    {
     "name": "stdout",
     "output_type": "stream",
     "text": [
      "Ticket Price:  free\n"
     ]
    }
   ],
   "source": [
    "##Determine the ticket price based on age and whether the person is a student\n",
    "\n",
    "age=int(input(\"Enter the age: \"))\n",
    "is_student=input(\"Are you a student?(yes/no): \").lower()\n",
    "\n",
    "#Determine ticket price\n",
    "if age<5:\n",
    "    price=\"free\"\n",
    "elif age<=12:\n",
    "    price=\"$10\"\n",
    "elif age<=17:\n",
    "    if is_student==\"yes\":\n",
    "        price=\"$12\"\n",
    "    else:\n",
    "        price=\"$17\"\n",
    "elif age<=64:\n",
    "    if is_student=='yes':\n",
    "        price=\"$18\"\n",
    "    else:\n",
    "        price=\"$25\"\n",
    "else:\n",
    "    price=\"$18\"\n",
    "\n",
    "print(\"Ticket Price: \", price)                "
   ]
  },
  {
   "cell_type": "code",
   "execution_count": null,
   "metadata": {},
   "outputs": [
    {
     "name": "stdout",
     "output_type": "stream",
     "text": [
      "Hello Wotld\n"
     ]
    }
   ],
   "source": [
    "print(\"Hello World\")"
   ]
  },
  {
   "cell_type": "code",
   "execution_count": 5,
   "metadata": {},
   "outputs": [
    {
     "name": "stdout",
     "output_type": "stream",
     "text": [
      "[1, 2, 3, 4, 5]\n"
     ]
    }
   ],
   "source": [
    "a = [1,2,3,4,5]\n",
    "print(a)"
   ]
  },
  {
   "cell_type": "code",
   "execution_count": 6,
   "metadata": {},
   "outputs": [
    {
     "data": {
      "text/plain": [
       "[5, 4, 3, 2, 1]"
      ]
     },
     "execution_count": 6,
     "metadata": {},
     "output_type": "execute_result"
    }
   ],
   "source": [
    "a[::-1]\n"
   ]
  },
  {
   "cell_type": "code",
   "execution_count": 9,
   "metadata": {},
   "outputs": [],
   "source": [
    "a = 'Sudama'\n",
    "b = 'Sangay'\n",
    "c = a+' '+b"
   ]
  },
  {
   "cell_type": "code",
   "execution_count": 10,
   "metadata": {},
   "outputs": [
    {
     "name": "stdout",
     "output_type": "stream",
     "text": [
      "Sudama Sangay\n"
     ]
    }
   ],
   "source": [
    "print(c)"
   ]
  },
  {
   "cell_type": "code",
   "execution_count": null,
   "metadata": {},
   "outputs": [],
   "source": []
  }
 ],
 "metadata": {
  "kernelspec": {
   "display_name": "venv",
   "language": "python",
   "name": "python3"
  },
  "language_info": {
   "codemirror_mode": {
    "name": "ipython",
    "version": 3
   },
   "file_extension": ".py",
   "mimetype": "text/x-python",
   "name": "python",
   "nbconvert_exporter": "python",
   "pygments_lexer": "ipython3",
   "version": "3.12.0"
  }
 },
 "nbformat": 4,
 "nbformat_minor": 2
}
