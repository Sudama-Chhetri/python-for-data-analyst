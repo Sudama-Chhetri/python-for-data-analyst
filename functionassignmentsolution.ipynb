{
 "cells": [
  {
   "cell_type": "markdown",
   "metadata": {},
   "source": [
    "# Module 4: Functions Assignments\n",
    "## Lesson 4.1: Defining Functions\n",
    "### Assignment 1: Simple Function\n",
    "\n",
    "Define a function that takes a single integer as input and returns its square. Test the function with different inputs."
   ]
  },
  {
   "cell_type": "code",
   "execution_count": 98,
   "metadata": {},
   "outputs": [
    {
     "name": "stdout",
     "output_type": "stream",
     "text": [
      "16\n",
      "100\n"
     ]
    }
   ],
   "source": [
    "def square(num):\n",
    "    return num**2\n",
    "\n",
    "print(square(4))\n",
    "print(square(10))"
   ]
  },
  {
   "cell_type": "markdown",
   "metadata": {},
   "source": [
    "### Assignment 2: Multiple Arguments\n",
    "\n",
    "Define a function that takes two integers as input and returns their sum. Test the function with different inputs."
   ]
  },
  {
   "cell_type": "code",
   "execution_count": 99,
   "metadata": {},
   "outputs": [
    {
     "name": "stdout",
     "output_type": "stream",
     "text": [
      "8\n",
      "10\n"
     ]
    }
   ],
   "source": [
    "def multiplication(a,b):\n",
    "    return a*b\n",
    "\n",
    "print(multiplication(2,4))\n",
    "print(multiplication(2,5))"
   ]
  },
  {
   "cell_type": "markdown",
   "metadata": {},
   "source": [
    "### Assignment 3: Default Arguments\n",
    "\n",
    "Define a function that takes two integers as input and returns their sum. The second integer should have a default value of 5. Test the function with different inputs."
   ]
  },
  {
   "cell_type": "code",
   "execution_count": 100,
   "metadata": {},
   "outputs": [
    {
     "name": "stdout",
     "output_type": "stream",
     "text": [
      "-3\n",
      "3\n",
      "0\n"
     ]
    }
   ],
   "source": [
    "def subtraction(a,b=5):\n",
    "    return a-b\n",
    "\n",
    "print(subtraction(2))\n",
    "print(subtraction(8))\n",
    "print(subtraction(10,10))\n"
   ]
  },
  {
   "cell_type": "markdown",
   "metadata": {},
   "source": [
    "### Assignment 4: Keyword Arguments\n",
    "\n",
    "Define a function that takes three named arguments: first_name, last_name, and age, and returns a formatted string. Test the function with different inputs."
   ]
  },
  {
   "cell_type": "code",
   "execution_count": 101,
   "metadata": {},
   "outputs": [
    {
     "name": "stdout",
     "output_type": "stream",
     "text": [
      "Sudama Chhetri is 21 years old.\n",
      "Yadash Karki Chhetri is 24 years old.\n"
     ]
    }
   ],
   "source": [
    "def format_person(first_name, last_name, age):\n",
    "    return f\"{first_name} {last_name} is {age} years old.\" \n",
    "\n",
    "print(format_person(first_name=\"Sudama\", last_name=\"Chhetri\", age=21))\n",
    "print(format_person(first_name=\"Yadash\", last_name=\"Karki Chhetri\", age=24 ))"
   ]
  },
  {
   "cell_type": "markdown",
   "metadata": {},
   "source": [
    "### Assignment 5: Variable-length Arguments\n",
    "\n",
    "Define a function that takes a variable number of integer arguments and returns their product. Test the function with different inputs."
   ]
  },
  {
   "cell_type": "code",
   "execution_count": 103,
   "metadata": {},
   "outputs": [
    {
     "name": "stdout",
     "output_type": "stream",
     "text": [
      "24\n",
      "210\n"
     ]
    }
   ],
   "source": [
    "def multiply(*args):\n",
    "    product=1\n",
    "    for num in args:\n",
    "        product=product*num\n",
    "    return product\n",
    "\n",
    "print(multiply(2,3,4))\n",
    "print(multiply(5,6,7))\n"
   ]
  },
  {
   "cell_type": "markdown",
   "metadata": {},
   "source": [
    "### Assignment 6: Nested Functions\n",
    "\n",
    "Define a function that contains another function inside it. The outer function should take two integers as input and return the result of the inner function, which multiplies the two integers. Test the function with different inputs."
   ]
  },
  {
   "cell_type": "code",
   "execution_count": null,
   "metadata": {},
   "outputs": [
    {
     "name": "stdout",
     "output_type": "stream",
     "text": [
      "6\n",
      "10\n"
     ]
    }
   ],
   "source": [
    "def outer_function(x,y):\n",
    "    def inner_function(a,b):\n",
    "        return a*b\n",
    "    return inner_function(x,y)\n",
    "\n",
    "print(outer_function(2,3))\n",
    "print(outer_function(2,5))"
   ]
  },
  {
   "cell_type": "markdown",
   "metadata": {},
   "source": [
    "### Assignment 7: Returning Multiple Values\n",
    "\n",
    "Define a function that takes a single integer as input and returns the integer squared, cubed, and raised to the power of four. Test the function with different inputs."
   ]
  },
  {
   "cell_type": "code",
   "execution_count": null,
   "metadata": {},
   "outputs": [
    {
     "name": "stdout",
     "output_type": "stream",
     "text": [
      "(4, 8, 16)\n",
      "(9, 27, 81)\n",
      "(16, 64, 256)\n"
     ]
    }
   ],
   "source": [
    "def power(num):\n",
    "    return num**2, num**3, num**4\n",
    "\n",
    "print(power(2))\n",
    "print(power(3))\n",
    "print(power(4))"
   ]
  },
  {
   "cell_type": "markdown",
   "metadata": {},
   "source": [
    "### Assignment 8: Recursive Function\n",
    "\n",
    "Define a recursive function that calculates the factorial of a given number. Test the function with different inputs."
   ]
  },
  {
   "cell_type": "code",
   "execution_count": null,
   "metadata": {},
   "outputs": [
    {
     "name": "stdout",
     "output_type": "stream",
     "text": [
      "24\n",
      "120\n"
     ]
    }
   ],
   "source": [
    "def factorial(num):\n",
    "    if num==0:\n",
    "        return 1\n",
    "    else:\n",
    "        return num*factorial(num-1)\n",
    "    \n",
    "print(factorial(4))\n",
    "print(factorial(5))"
   ]
  },
  {
   "cell_type": "markdown",
   "metadata": {},
   "source": [
    "### Assignment 9: Lambda Function\n",
    "\n",
    "Define a lambda function that takes two integers as input and returns their sum. Test the lambda function with different inputs."
   ]
  },
  {
   "cell_type": "code",
   "execution_count": null,
   "metadata": {},
   "outputs": [
    {
     "name": "stdout",
     "output_type": "stream",
     "text": [
      "3\n",
      "4\n"
     ]
    }
   ],
   "source": [
    "addition = lambda x,y : x+y\n",
    "\n",
    "print(addition(2,1))\n",
    "print(addition(3,1))"
   ]
  },
  {
   "cell_type": "markdown",
   "metadata": {},
   "source": [
    "### Assignment 10: Map Function\n",
    "\n",
    "Use the map function to apply a lambda function that squares each number in a list of integers. Test with different lists."
   ]
  },
  {
   "cell_type": "code",
   "execution_count": null,
   "metadata": {},
   "outputs": [
    {
     "name": "stdout",
     "output_type": "stream",
     "text": [
      "[1, 4, 9, 16, 25]\n"
     ]
    }
   ],
   "source": [
    "number=[1,2,3,4,5]\n",
    "squared_number=list(map(lambda num:num**2,number))\n",
    "print(squared_number)"
   ]
  },
  {
   "cell_type": "markdown",
   "metadata": {},
   "source": [
    "### Assignment 11: Filter Function\n",
    "\n",
    "Use the filter function to filter out all odd numbers from a list of integers. Test with different lists."
   ]
  },
  {
   "cell_type": "code",
   "execution_count": null,
   "metadata": {},
   "outputs": [
    {
     "name": "stdout",
     "output_type": "stream",
     "text": [
      "[2, 4]\n"
     ]
    }
   ],
   "source": [
    "number=[1,2,3,4,5]\n",
    "\n",
    "odd_numebr=list(filter(lambda num:num%2==0,number))\n",
    "print(odd_numebr)"
   ]
  },
  {
   "cell_type": "code",
   "execution_count": null,
   "metadata": {},
   "outputs": [
    {
     "name": "stdout",
     "output_type": "stream",
     "text": [
      "[2, 4]\n"
     ]
    }
   ],
   "source": [
    "##filtering out even numbers\n",
    "\n",
    "number=[1,2,3,4,5]\n",
    "odd_numebr=list(filter(lambda num:num%2==0,number))\n",
    "print(odd_numebr)"
   ]
  },
  {
   "cell_type": "markdown",
   "metadata": {},
   "source": [
    "### Assignment 13: Function with *args and **kwargs\n",
    "\n",
    "Define a function that takes variable-length arguments and keyword arguments and prints them. Test the function with different inputs."
   ]
  },
  {
   "cell_type": "code",
   "execution_count": null,
   "metadata": {},
   "outputs": [
    {
     "name": "stdout",
     "output_type": "stream",
     "text": [
      "args: (1, 2, 3, 4, 5, 'Sudama')\n",
      "kwargs: {'a': 'apple', 'b': 'banana'}\n",
      "args: ('hello', 'world')\n",
      "kwargs: {'x': 10, 'y': 20}\n"
     ]
    }
   ],
   "source": [
    "def print_args_kwargs(*args,**kwargs):\n",
    "    print('args:',args)\n",
    "    print('kwargs:',kwargs)\n",
    "\n",
    "print_args_kwargs(1,2,3,4,5,\"Sudama\", a='apple', b='banana')\n",
    "print_args_kwargs('hello','world',x=10,y=20)"
   ]
  }
 ],
 "metadata": {
  "kernelspec": {
   "display_name": "Python 3",
   "language": "python",
   "name": "python3"
  },
  "language_info": {
   "codemirror_mode": {
    "name": "ipython",
    "version": 3
   },
   "file_extension": ".py",
   "mimetype": "text/x-python",
   "name": "python",
   "nbconvert_exporter": "python",
   "pygments_lexer": "ipython3",
   "version": "3.12.0"
  }
 },
 "nbformat": 4,
 "nbformat_minor": 2
}
